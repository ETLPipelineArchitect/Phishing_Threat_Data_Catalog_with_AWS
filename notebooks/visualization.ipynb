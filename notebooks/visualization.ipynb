{
    "cells": [
        {
            "cell_type": "markdown",
            "metadata": {},
            "source": [
                "# Data Visualization\n",
                "Visualizing the results from the data analysis."
            ]
        },
        {
            "cell_type": "code",
            "execution_count": 1,
            "metadata": {},
            "outputs": [],
            "source": [
                "import pandas as pd\n",
                "import matplotlib.pyplot as plt\n",
                "import seaborn as sns\n",
                "\n",
                "# Load Top Domains Data\n",
                "top_domains = pd.read_csv('s3://your-bucket/phishing_threat_data/output/top_domains.csv')\n",
                "\n",
                "# Plot Top 10 Most Targeted Domains\n",
                "plt.figure(figsize=(12, 6))\n",
                "sns.barplot(data=top_domains, x='domain', y='attack_count', palette='magma')\n",
                "plt.title('Top 10 Most Targeted Domains by Phishing Attacks')\n",
                "plt.xlabel('Domain')\n",
                "plt.ylabel('Number of Attacks')\n",
                "plt.xticks(rotation=45)\n",
                "plt.show()\n"
            ]
        }
    ],
    "metadata": {
        "kernelspec": {
            "display_name": "Python 3",
            "language": "python",
            "name": "python3"
        },
        "language_info": {
            "name": "python",
            "version": "3.8.5",
            "mimetype": "text/x-python",
            "codemirror_mode": {
                "name": "ipython",
                "version": 3
            },
            "pygments_lexer": "ipython3",
            "nbconvert_exporter": "python",
            "file_extension": ".py"
        }
    },
    "nbformat": 4,
    "nbformat_minor": 5
}